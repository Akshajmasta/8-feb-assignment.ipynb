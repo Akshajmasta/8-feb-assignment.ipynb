{
 "cells": [
  {
   "attachments": {},
   "cell_type": "markdown",
   "metadata": {},
   "source": [
    "ANSWER 1"
   ]
  },
  {
   "attachments": {},
   "cell_type": "markdown",
   "metadata": {},
   "source": [
    " Abstraction is a fundamental concept in object-oriented programming (OOP) that involves representing complex systems in simpler ways by hiding irrelevant details and exposing only the essential features. In OOP, abstraction is achieved through the use of abstract classes and interfaces. An abstract class is a class that cannot be instantiated but can be used as a base class for other classes, while an interface is a collection of abstract methods that define a set of behaviors that a class must implement. An example of abstraction in OOP could be a vehicle class. The vehicle class could define a set of common features and behaviors that all vehicles share, such as the ability to move, accelerate, and brake, without specifying the details of how these features are implemented in each specific type of vehicle."
   ]
  },
  {
   "attachments": {},
   "cell_type": "markdown",
   "metadata": {},
   "source": [
    "ANSWER 2"
   ]
  },
  {
   "attachments": {},
   "cell_type": "markdown",
   "metadata": {},
   "source": [
    " Abstraction and Encapsulation are two important concepts in OOP, but they are not the same. Abstraction involves representing complex systems in simpler ways by hiding irrelevant details and exposing only the essential features. Encapsulation involves hiding the implementation details of a class and protecting its internal state from external interference. An example of abstraction could be a vehicle class that defines a set of common features and behaviors that all vehicles share, such as the ability to move, accelerate, and brake, without specifying the details of how these features are implemented in each specific type of vehicle. An example of encapsulation could be a bank account class that hides the details of how the account balance is maintained and provides methods to deposit, withdraw, and check the balance, while protecting the balance from external manipulation."
   ]
  },
  {
   "attachments": {},
   "cell_type": "markdown",
   "metadata": {},
   "source": [
    "ANSWER 3"
   ]
  },
  {
   "attachments": {},
   "cell_type": "markdown",
   "metadata": {},
   "source": [
    "The abc module in Python is used to create abstract classes and interfaces. An abstract class is a class that cannot be instantiated and serves as a blueprint for other classes to inherit from. An interface is a collection of abstract methods that define a set of behaviors that a class must implement. The abc module provides the ABCMeta metaclass that allows you to define abstract classes and interfaces by marking methods as abstract using the @abstractmethod decorator. Abstract classes and interfaces can be used to enforce a certain behavior or structure on classes that inherit from them, and to provide a common interface for a set of related classes."
   ]
  },
  {
   "attachments": {},
   "cell_type": "markdown",
   "metadata": {},
   "source": [
    "ANSWER 4"
   ]
  },
  {
   "attachments": {},
   "cell_type": "markdown",
   "metadata": {},
   "source": [
    " Data abstraction is achieved in OOP by separating the essential features of an object from the implementation details that are not relevant to its users. This is done by defining an abstract class or interface that defines the essential features and behaviors that a class must have, without specifying the implementation details. The implementation details are then provided by the concrete classes that inherit from the abstract class or implement the interface. This allows the users of the class to interact with it at a high level, without needing to know the details of how the class works internally.\n",
    " "
   ]
  },
  {
   "attachments": {},
   "cell_type": "markdown",
   "metadata": {},
   "source": [
    "ANSWER 5"
   ]
  },
  {
   "attachments": {},
   "cell_type": "markdown",
   "metadata": {},
   "source": [
    "No, we cannot create an instance of an abstract class in Python. An abstract class is a class that cannot be instantiated and is only meant to serve as a blueprint for other classes to inherit from. To create an instance of a class, we need to provide a concrete implementation of all the abstract methods defined in the abstract class. When we try to instantiate an abstract class in Python, we will get a TypeError. However, we can create a concrete subclass of the abstract class and instantiate it, as long as we provide implementations for all the abstract methods."
   ]
  }
 ],
 "metadata": {
  "kernelspec": {
   "display_name": "Python 3",
   "language": "python",
   "name": "python3"
  },
  "language_info": {
   "name": "python",
   "version": "3.11.2"
  },
  "orig_nbformat": 4
 },
 "nbformat": 4,
 "nbformat_minor": 2
}
